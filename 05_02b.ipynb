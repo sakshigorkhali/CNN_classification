{
 "cells": [
  {
   "cell_type": "markdown",
   "id": "05a225dd-ca91-492e-a2c9-6bab3318ae27",
   "metadata": {},
   "source": [
    "<div class=\"alert alert-success\"><h1>Using a Pretrained Model for Image Classification in Python</h1></div>"
   ]
  },
  {
   "cell_type": "markdown",
   "id": "255b51c5-f772-438c-b1c0-49d99604dfe9",
   "metadata": {},
   "source": [
    "In this tutorial, you'll learn how to use a pretrained **YOLO** model for **image classification** in Python. Image classification is one of the most fundamental tasks in computer vision. It involves assigning a single label to an entire image based on the dominant object or scene it contains. The output of an image classifier is a class label along with a confidence score indicating how certain the model is about its prediction. This task is especially useful when you're interested in identifying what type of object is present in an image, without needing to know its exact location or shape.\n",
    "\n",
    "## Learning Objectives\n",
    "By the end of this tutorial, you will know:\n",
    "+ How to load and prepare a YOLO image classification model for inference\n",
    "+ How to run inference and interpret raw and formatted outputs including top‑1 and top‑5 predictions\n",
    "\n",
    "## Prerequisites\n",
    "Before we begin, please ensure that you have:\n",
    "+ A working knowledge of Python, including variables, functions, loops, and basic object-oriented programming.\n",
    "+ A Python (version 3.x) environment with the `ultralytics`, `matplotlib`, and `Pillow` packages installed.\n",
    "\n",
    "<hr>"
   ]
  },
  {
   "cell_type": "markdown",
   "id": "68c64974-f371-4a7c-aab4-0bb4f9ebb004",
   "metadata": {},
   "source": [
    "## YOLO (\"You Only Look Once\")\n",
    "YOLO, short for \"You Only Look Once\", is a family of high-performance deep learning models originally designed for real-time object detection. However, recent versions of YOLO have been adapted for image classification tasks as well, offering a powerful combination of speed and accuracy across a range of model sizes. Unlike traditional classification models, YOLO models are optimized for fast inference, making them suitable for edge devices and real-time applications. \n",
    "\n",
    "Visit \"https://docs.ultralytics.com/tasks/classify/\" for a summary of available YOLO11 models specifically designed for image classification. These models are pretrained on the **ImageNet** dataset and offer a trade-off between accuracy, speed, and computational complexity."
   ]
  },
  {
   "cell_type": "markdown",
   "id": "160915b0-50f9-402b-b199-6ea46a3f7f7f",
   "metadata": {},
   "source": [
    "## 1. Load the Pretrained Model\n",
    "First we import the YOLO class and load the pretrained classification model. Ultralytics will download the weights if needed and initialize the model for inference."
   ]
  },
  {
   "cell_type": "code",
   "execution_count": null,
   "id": "fbbcbc18-d98c-4127-b1a5-df63edf547ab",
   "metadata": {},
   "outputs": [],
   "source": []
  },
  {
   "cell_type": "markdown",
   "id": "ca09afea-cc1c-43d0-b380-0b7d32da8db5",
   "metadata": {},
   "source": [
    "The model is now ready for inference. We can choose other available models depending on the accuracy and speed trade-off we're targeting. "
   ]
  },
  {
   "cell_type": "markdown",
   "id": "3871eea1-546b-4050-b2d0-3258b7df0db4",
   "metadata": {},
   "source": [
    "## 2. Specify the Input Image\n",
    "Next, we define the path to the image file we want to classify. "
   ]
  },
  {
   "cell_type": "code",
   "execution_count": null,
   "id": "45eccfd2-4964-4b44-82d5-8563b3dd5fd8",
   "metadata": {},
   "outputs": [],
   "source": []
  },
  {
   "cell_type": "markdown",
   "id": "25a59c27-917f-4c6b-b8fe-338eb56f86f1",
   "metadata": {},
   "source": [
    "However, before running the classification, let's display the image so we can visually confirm the input. This helps ensure the file path is correct and that the model will see the expected content."
   ]
  },
  {
   "cell_type": "code",
   "execution_count": null,
   "id": "edec4fa7-ea46-4d85-8c50-0b56dde8d84e",
   "metadata": {},
   "outputs": [],
   "source": []
  },
  {
   "cell_type": "markdown",
   "id": "195dff14-d599-4361-8651-578bf1db88e8",
   "metadata": {},
   "source": [
    "## 3. Classify the Input Image\n",
    "Now we pass the image path to the model. This automatically resizes the image to the model’s expected dimensions (224 × 224), normalizes pixel values, and batches the input (if we pass several images). "
   ]
  },
  {
   "cell_type": "code",
   "execution_count": null,
   "id": "7836a14a-ab69-4d93-bcd8-c5521dd0483e",
   "metadata": {},
   "outputs": [],
   "source": []
  },
  {
   "cell_type": "markdown",
   "id": "fd1123b5-3b5a-4db8-8eb6-270376c37ed0",
   "metadata": {},
   "source": [
    "The output is a summary line showing the full file path, the resized dimensions, the top class predictions with their confidence scores, and timing information for preprocessing, inference, and postprocessing.\n",
    "\n",
    "To make the output more learner‑friendly, we extract the top‑1 and top‑5 predictions. We then print them with class names and confidence percentages. This also helps us understand other plausible predictions the model considered."
   ]
  },
  {
   "cell_type": "code",
   "execution_count": null,
   "id": "f1756e2d-80bf-4860-97b5-4824a2daf21b",
   "metadata": {},
   "outputs": [],
   "source": []
  },
  {
   "cell_type": "markdown",
   "id": "93288b73-9107-49a2-bee1-bf835d7245a6",
   "metadata": {},
   "source": [
    "Finally we display the image again with a title that shows the top‑1 prediction and its confidence score. This gives a visual confirmation of the result."
   ]
  },
  {
   "cell_type": "code",
   "execution_count": null,
   "id": "c02ae3be-c8ac-417d-8ece-d6e7c59ea043",
   "metadata": {},
   "outputs": [],
   "source": []
  },
  {
   "cell_type": "markdown",
   "id": "9cfcfb11-4217-409b-9b0d-c6bd011f4811",
   "metadata": {},
   "source": [
    "In this tutorial we learned how to use a pretrained YOLO model to perform image classification in Python. As next steps you can try classifyuing a different image, automate the pipeline for multiple images, save predictions to a CSV file, or integrate the code into a web service or mobile application. The techniques we explored here provide you with the foundation you need to apply image classification to real‑world tasks and datasets."
   ]
  }
 ],
 "metadata": {
  "kernelspec": {
   "display_name": "Python 3 (ipykernel)",
   "language": "python",
   "name": "python3"
  },
  "language_info": {
   "codemirror_mode": {
    "name": "ipython",
    "version": 3
   },
   "file_extension": ".py",
   "mimetype": "text/x-python",
   "name": "python",
   "nbconvert_exporter": "python",
   "pygments_lexer": "ipython3",
   "version": "3.12.7"
  }
 },
 "nbformat": 4,
 "nbformat_minor": 5
}
