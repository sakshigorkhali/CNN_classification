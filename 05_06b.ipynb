{
 "cells": [
  {
   "cell_type": "markdown",
   "id": "5092e80e-6a10-434a-8742-506b7abbb3b6",
   "metadata": {},
   "source": [
    "<div class=\"alert alert-success\"><h1>Using a Pretrained Model for Image Segmentation in Python</h1></div>"
   ]
  },
  {
   "cell_type": "markdown",
   "id": "8818abba-c037-4cbf-8de5-2d56994048e2",
   "metadata": {},
   "source": [
    "In this tutorial, you'll learn how to use a pretrained **YOLO** model for **image segmentation** in Python. Image segmentation is one of the most common tasks in computer vision. It involves partitioning an image at the pixel level so that each pixel is assigned to a specific class or object instance. The output of a segmentation model includes pixel-wise masks for each detected region, class labels, bounding boxes, and confidence scores indicating how certain the model is about each prediction. This approach is especially useful when you need to know not just what objects are present but also the precise shape and extent of each object.\n",
    "\n",
    "## Learning Objectives\n",
    "By the end of this tutorial, you will know:\n",
    "+ How to load and prepare a YOLO image segmentation model for inference\n",
    "+ How to run segmentation inference and inspect raw mask outputs\n",
    "+ How to overlay masks, bounding boxes, and labels on the original image\n",
    "\n",
    "## Prerequisites\n",
    "Before we begin, please ensure that you have:\n",
    "+ A working knowledge of Python, including variables, functions, loops, and basic object-oriented programming.\n",
    "+ A Python (version 3.x) environment with the `ultralytics`, `opencv-python`, `matplotlib`, `numpy`, and `Pillow` packages installed.\n",
    "\n",
    "<hr>"
   ]
  },
  {
   "cell_type": "markdown",
   "id": "9f7dfe6d-976f-40ee-8f72-6e900dc85fe3",
   "metadata": {},
   "source": [
    "## YOLO (\"You Only Look Once\")\n",
    "YOLO includes segmentation-capable models that combine detection with pixel-level mask prediction. By framing segmentation as an extension of detection, YOLO generates bounding boxes, class labels, and per-instance masks in one pass. YOLO image segmentation models are trained on the **COCO** dataset and are optimized for real-time mask inference.\n",
    "\n",
    "Visit \"https://docs.ultralytics.com/tasks/segment/\" for details on available YOLO segmentation models, their performance, and recommended use cases."
   ]
  },
  {
   "cell_type": "markdown",
   "id": "7d55d7d0-ee13-48be-8b70-22bf17b87414",
   "metadata": {},
   "source": [
    "## 1. Load the Pretrained Model\n",
    "Import the YOLO class and load a pretrained segmentation model. The weights will be downloaded automatically if not present."
   ]
  },
  {
   "cell_type": "code",
   "execution_count": null,
   "id": "84b34b8c-883d-48d3-aba2-fd6076ad4dda",
   "metadata": {},
   "outputs": [],
   "source": []
  },
  {
   "cell_type": "markdown",
   "id": "e4d02493-afde-454d-961f-7f8405367cfa",
   "metadata": {},
   "source": [
    "The model is now ready for image segmentation. We can choose other available models depending on your accuracy and speed requirements."
   ]
  },
  {
   "cell_type": "markdown",
   "id": "16d0b3a1-da98-4b7e-9a12-c2a57288dd7e",
   "metadata": {},
   "source": [
    "## 2. Specify the Input Image\n",
    "Next, we define the path to the image file we want to process. "
   ]
  },
  {
   "cell_type": "code",
   "execution_count": null,
   "id": "381c7da9-c73a-4415-ac22-ffaecfdfe27c",
   "metadata": {},
   "outputs": [],
   "source": []
  },
  {
   "cell_type": "markdown",
   "id": "b0bf06ea-2536-44f7-ac51-0f1271666013",
   "metadata": {},
   "source": [
    "Let's display the image so we can visually confirm that the correct file is referenced."
   ]
  },
  {
   "cell_type": "code",
   "execution_count": null,
   "id": "d43b9417-f517-4821-8697-330d0de8901a",
   "metadata": {},
   "outputs": [],
   "source": []
  },
  {
   "cell_type": "markdown",
   "id": "8463c47a-26fb-427f-809d-97ea1d8dce05",
   "metadata": {},
   "source": [
    "## 3. Run Image Segmentation on the Input Image\n",
    "Now we pass the image path to the model. This automatically resizes the image to the model’s expected dimensions (640 × 640 by default), normalizes pixel values, and batches the input (if we pass several images). "
   ]
  },
  {
   "cell_type": "code",
   "execution_count": null,
   "id": "2eff3a29-6acf-4816-af78-e7105146eafa",
   "metadata": {},
   "outputs": [],
   "source": []
  },
  {
   "cell_type": "markdown",
   "id": "be8fb7e4-7c55-4bfb-af2d-24861d020c2f",
   "metadata": {},
   "source": [
    "The output is a summary showing the resized dimensions of the input image, number of detected masks per class, and timing information for preprocessing, inference, and postprocessing."
   ]
  },
  {
   "cell_type": "markdown",
   "id": "60d3e0d1-2c92-4fa1-a898-f24412eb9904",
   "metadata": {},
   "source": [
    "## 4. Parse and Display the Segmentations\n",
    "Next, we loop through the results to extract bounding box coordinates, labels, and confidence scores."
   ]
  },
  {
   "cell_type": "code",
   "execution_count": null,
   "id": "b7dcea99-64a6-4ef7-996a-73f43a7374a0",
   "metadata": {},
   "outputs": [],
   "source": []
  },
  {
   "cell_type": "markdown",
   "id": "ec9c96df-274e-447b-8df2-f43115f71eb6",
   "metadata": {},
   "source": [
    "YOLO provides a built‑in `plot()` method to draw boxes and labels directly on the image, as well as overlay a segmentation mask. We use the method to get an annotated array, convert from BGR to RGB color, then display it."
   ]
  },
  {
   "cell_type": "code",
   "execution_count": null,
   "id": "a07f29cf-0e20-47ce-907d-da2780b8b512",
   "metadata": {},
   "outputs": [],
   "source": []
  },
  {
   "cell_type": "markdown",
   "id": "3f15ba25-25a3-4895-84d2-43b35e18b8db",
   "metadata": {},
   "source": [
    "In this tutorial, you learned how to use a pretrained YOLO segmentation model to perform image segmentation in Python, demonstrating its speed and ease of use for generating precise pixel-level masks. Some potential next steps include batch-segmenting folders of images, applying segmentation to video streams, or fine-tuning a YOLO segmentation model on your own dataset."
   ]
  }
 ],
 "metadata": {
  "kernelspec": {
   "display_name": "Python 3 (ipykernel)",
   "language": "python",
   "name": "python3"
  },
  "language_info": {
   "codemirror_mode": {
    "name": "ipython",
    "version": 3
   },
   "file_extension": ".py",
   "mimetype": "text/x-python",
   "name": "python",
   "nbconvert_exporter": "python",
   "pygments_lexer": "ipython3",
   "version": "3.12.7"
  }
 },
 "nbformat": 4,
 "nbformat_minor": 5
}
