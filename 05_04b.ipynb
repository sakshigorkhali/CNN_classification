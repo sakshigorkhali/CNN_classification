{
 "cells": [
  {
   "cell_type": "markdown",
   "id": "e3629e96-bee7-4d2b-a9b6-e22a8e9c344a",
   "metadata": {},
   "source": [
    "<div class=\"alert alert-success\"><h1>Using a Pretrained Model for Object Detection in Python</h1></div>"
   ]
  },
  {
   "cell_type": "markdown",
   "id": "94b23c6f-90c9-457a-a12f-38077bad3fd1",
   "metadata": {},
   "source": [
    "In this tutorial, you'll learn how to use a pretrained **YOLO** model for **object detection** in Python. Object detection is one of the most common tasks in computer vision. It involves identifying and localizing every instance of objects within an image. The output of an object detector includes the coordinates of the bounding boxes around each image, the predicted class for each box, and a confidence score indicating how certain the model is about each detection. Object detection is especially useful when we need to know what objects are present in an image as well as where they are located.\n",
    "\n",
    "## Learning Objectives\n",
    "By the end of this tutorial, you will know:\n",
    "+ How to load and prepare a YOLO object detection model for inference\n",
    "+ How to run inference and inspect raw detection outputs\n",
    "+ How to draw and display bounding boxes with class labels and confidence scores\n",
    "\n",
    "## Prerequisites\n",
    "Before we begin, please ensure that you have:\n",
    "+ A working knowledge of Python, including variables, functions, loops, and basic object-oriented programming.\n",
    "+ A Python (version 3.x) environment with the `ultralytics`, `opencv-python`, `matplotlib`, and `Pillow` packages installed.\n",
    "\n",
    "<hr>"
   ]
  },
  {
   "cell_type": "markdown",
   "id": "bcf2169d-99a5-4671-ac3c-0c2fa68991bf",
   "metadata": {},
   "source": [
    "## YOLO (\"You Only Look Once\")\n",
    "YOLO, short for \"You Only Look Once\", is a family of high-performance deep learning models designed for real-time object detection. These models perform detection by framing detection as a single regression problem, predicting bounding boxes and class probabilities directly from full images in one evaluation. YOLO object detection models are trained on the **COCO** dataset and offer a range of model sizes (nano, small, medium, large, and extra large) that balance speed and accuracy for various applications.\n",
    "\n",
    "Visit \"https://docs.ultralytics.com/tasks/detect/\" for a summary of available YOLO object detection models, their performance metrics, and recommended use cases."
   ]
  },
  {
   "cell_type": "markdown",
   "id": "eca250eb-d3bf-40f8-9206-1f86861531a5",
   "metadata": {},
   "source": [
    "## 1. Load the Pretrained Model\n",
    "Import the YOLO class and load a pretrained detection model. Ultralytics will download the weights if they are not already present."
   ]
  },
  {
   "cell_type": "code",
   "execution_count": null,
   "id": "330535ff-0a3c-46c7-83ec-75d30104d026",
   "metadata": {},
   "outputs": [],
   "source": []
  },
  {
   "cell_type": "markdown",
   "id": "7f68f765-b780-492a-90d5-e52bb3d12ac9",
   "metadata": {},
   "source": [
    "The model is now ready for object detection. We can choose other available models depending on the accuracy and speed trade-off we're targeting. "
   ]
  },
  {
   "cell_type": "markdown",
   "id": "6d870cbd-da8a-40b3-9162-babc9831913e",
   "metadata": {},
   "source": [
    "## 2. Specify the Input Image\n",
    "Next, we define the path to the image file we want to process. "
   ]
  },
  {
   "cell_type": "code",
   "execution_count": null,
   "id": "23953eb8-240f-4e09-a1ab-cf9373a99ee6",
   "metadata": {},
   "outputs": [],
   "source": []
  },
  {
   "cell_type": "markdown",
   "id": "02828693-051d-4af9-97dd-d31928096424",
   "metadata": {},
   "source": [
    "However, before running the classification, let's display the image so we can visually confirm the input. This helps ensure the file path is correct and that the model will see the expected content."
   ]
  },
  {
   "cell_type": "code",
   "execution_count": null,
   "id": "6cac9521-e83d-4f52-b52f-61070f109eee",
   "metadata": {},
   "outputs": [],
   "source": []
  },
  {
   "cell_type": "markdown",
   "id": "e3bf9bf2-aa47-4b5f-b1b1-5b57b9ad4550",
   "metadata": {},
   "source": [
    "## 3. Run Object Detection on the Input Image\n",
    "Now we pass the image path to the model. This automatically resizes the image to the model’s expected dimensions (640 × 640 by default), normalizes pixel values, and batches the input (if we pass several images). "
   ]
  },
  {
   "cell_type": "code",
   "execution_count": null,
   "id": "9c243b33-76b5-4184-bd69-867ca2f694e0",
   "metadata": {},
   "outputs": [],
   "source": []
  },
  {
   "cell_type": "markdown",
   "id": "6a65d503-15e1-4f46-b260-573d4533a3f2",
   "metadata": {},
   "source": [
    "The output shows how many objects of each class were found, along with timing for each stage. Note that the model attempted to resize the image to fit it’s expected input dimensions of 640 × 640. However, we ended up with 448 x 640 in order to preserve the aspect ratio of the original image."
   ]
  },
  {
   "cell_type": "markdown",
   "id": "1c12aff3-085a-4f1d-b98d-33b550a7881a",
   "metadata": {},
   "source": [
    "## 4. Parse and Display the Detections\n",
    "Next, we loop through the results to extract bounding box coordinates, labels, and confidence scores."
   ]
  },
  {
   "cell_type": "code",
   "execution_count": null,
   "id": "671cbc9c-b618-4e14-afca-bc06314f41e4",
   "metadata": {},
   "outputs": [],
   "source": []
  },
  {
   "cell_type": "markdown",
   "id": "d9a64942-b13f-4e0a-96ee-14c860023b6f",
   "metadata": {},
   "source": [
    "YOLO provides a built‑in `plot()` method to draw boxes and labels directly on the image. We use the method to get an annotated array, convert from BGR to RGB color, then display it."
   ]
  },
  {
   "cell_type": "code",
   "execution_count": null,
   "id": "b0e6a85b-b44d-466d-845d-be5306e5b763",
   "metadata": {},
   "outputs": [],
   "source": []
  },
  {
   "cell_type": "markdown",
   "id": "164831bb-fc50-4afa-a440-1f2eb7a195c7",
   "metadata": {},
   "source": [
    "In this tutorial, you learned how to use a pretrained YOLO detection model to perform object detection in Python, demonstrating its speed and efficiency for accurately locating and labeling objects. Some potential next steps include processing multiple images in a directory, running detection on video or webcam streams, saving annotated frames to disk, or fine‑tuning a model on a specific dataset."
   ]
  }
 ],
 "metadata": {
  "kernelspec": {
   "display_name": "Python 3 (ipykernel)",
   "language": "python",
   "name": "python3"
  },
  "language_info": {
   "codemirror_mode": {
    "name": "ipython",
    "version": 3
   },
   "file_extension": ".py",
   "mimetype": "text/x-python",
   "name": "python",
   "nbconvert_exporter": "python",
   "pygments_lexer": "ipython3",
   "version": "3.12.7"
  }
 },
 "nbformat": 4,
 "nbformat_minor": 5
}
