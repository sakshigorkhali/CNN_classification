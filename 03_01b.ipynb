{
 "cells": [
  {
   "cell_type": "markdown",
   "id": "faa0500b-84a1-41a1-92ad-2cbc1da5c049",
   "metadata": {},
   "source": [
    "<div class=\"alert alert-success\"><h1>Building a Convolutional Neural Network in Python using Keras</h1></div>"
   ]
  },
  {
   "cell_type": "markdown",
   "id": "9a53313a-5eb9-4cda-a09e-b16ebe4ee6e8",
   "metadata": {},
   "source": [
    "Convolutional Neural Networks (CNNs) are a powerful class of deep neural networks primarily used for processing image data. CNNs have proven extremely effective in image classification, object detection, and facial recognition tasks. In this tutorial, we'll build a CNN using Keras and TensorFlow to classify images from the CIFAR-10 dataset into 10 distinct categories.\n",
    "\n",
    "## Learning Objectives\n",
    "By the end of this tutorial, you will:\n",
    "+ Understand the basics of CNNs and their architecture.\n",
    "+ Learn how to preprocess image data for deep learning.\n",
    "+ Build a simple CNN using Keras and TensorFlow.\n",
    "+ Train and evaluate the CNN model.\n",
    "\n",
    "## Prerequisites\n",
    "Before we begin, ensure you have:\n",
    "\n",
    "+ Basic knowledge of Python programming (variables, functions, loops).\n",
    "+ Understanding of fundamental machine learning concepts.\n",
    "+ Python environment (version 3.x) with `tensorflow`, `keras`, and `matplotlib` installed."
   ]
  },
  {
   "cell_type": "markdown",
   "id": "9f768317-f0c0-4981-9258-18b1453deb3b",
   "metadata": {},
   "source": [
    "<div class=\"alert alert-info\"><b>Note:</b> For further insights into deep learning and model building with Keras and TensorFlow, consider exploring the LinkedIn Learning course <b>\"Deep Learning with Python: Foundations\"</b>.</div>"
   ]
  },
  {
   "cell_type": "markdown",
   "id": "6f44d123-2592-4b6c-8d6a-13e8d7cef08e",
   "metadata": {},
   "source": [
    "<div class=\"alert alert-success\"><h2>1. Import and Preprocess the Data</h2></div>"
   ]
  },
  {
   "cell_type": "markdown",
   "id": "60a5d744-3ae9-4522-b6a8-3a5355bf8f12",
   "metadata": {},
   "source": [
    "Let's start by importing the data and verifying that the shape is as expected."
   ]
  },
  {
   "cell_type": "code",
   "execution_count": null,
   "id": "b71f6c3d-cdf6-42c7-9f0d-1aa0c0f9988e",
   "metadata": {},
   "outputs": [],
   "source": []
  },
  {
   "cell_type": "markdown",
   "id": "3483a322-9597-4405-b127-199f14877623",
   "metadata": {},
   "source": [
    "The **CIFAR-10** dataset is a well-known benchmark dataset commonly used to evaluate the performance of computer vision models, particularly convolutional neural networks (CNNs). It consists of 60,000 color images, each of dimensions 32 x 32 pixels with 3 color channels (RGB), divided into:\n",
    "+ 50,000 images for training.\n",
    "+ 10,000 images for testing (evaluation).\n",
    "\n",
    "Each image is assigned exactly one of ten distinct classes representing common objects - (0) Airplane, (1) Automobile, (2) Bird, (3) Cat, (4) Deer, (5) Dog, (6) Frog, (7) Horse, (8) Ship, and (9) Truck.\n",
    "\n",
    "Let's preview the first 10 images in the training set to get a sense of what they look like. "
   ]
  },
  {
   "cell_type": "code",
   "execution_count": null,
   "id": "c9db20ec-3b78-4a0c-864f-bedabef8237a",
   "metadata": {},
   "outputs": [],
   "source": []
  },
  {
   "cell_type": "markdown",
   "id": "cb1d9b14-a3de-423b-bc8c-4b192d7c0db9",
   "metadata": {},
   "source": [
    "As you can see, the images are very low resolution and somewhat difficult to make out. They are 32 x 32 pixels in dimension. They weren't necessarily designed to be viewed on a high-resolution screen. However, we can tell what each image is by looking at the label.\n",
    "\n",
    "Pixel values in images range from 0 to 255. Deep learning models (such as CNNs) perform better when input values are scaled to a smaller range, typically between 0 and 1. To accommodate this, we convert the data type of the image pixels to float32 and normalize the values to fall within 0 and 1 by dividing them by 255."
   ]
  },
  {
   "cell_type": "code",
   "execution_count": null,
   "id": "3c0a4b30-94f8-4ff8-8cd7-9bf1cf2004b8",
   "metadata": {},
   "outputs": [],
   "source": []
  },
  {
   "cell_type": "markdown",
   "id": "a48de349-1055-47de-93b2-4a657ef4c7c9",
   "metadata": {},
   "source": [
    "For labels, we'll use one-hot encoding. Each integer label (0-9) is converted to a binary vector with one \"hot\" (1) position indicating the class."
   ]
  },
  {
   "cell_type": "code",
   "execution_count": null,
   "id": "32d757f3-6dac-4462-8425-0e9c253b66a1",
   "metadata": {},
   "outputs": [],
   "source": []
  },
  {
   "cell_type": "markdown",
   "id": "98ef7798-c563-4da1-91f9-6e64732eabfc",
   "metadata": {},
   "source": [
    "Now, `train_labels` and `test_labels` are matrices of shape (50000, 10) and (10000, 10), respectively."
   ]
  }
 ],
 "metadata": {
  "kernelspec": {
   "display_name": "Python 3 (ipykernel)",
   "language": "python",
   "name": "python3"
  },
  "language_info": {
   "codemirror_mode": {
    "name": "ipython",
    "version": 3
   },
   "file_extension": ".py",
   "mimetype": "text/x-python",
   "name": "python",
   "nbconvert_exporter": "python",
   "pygments_lexer": "ipython3",
   "version": "3.12.7"
  }
 },
 "nbformat": 4,
 "nbformat_minor": 5
}
